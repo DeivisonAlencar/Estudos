{
 "cells": [
  {
   "cell_type": "code",
   "execution_count": 2,
   "metadata": {},
   "outputs": [
    {
     "name": "stdout",
     "output_type": "stream",
     "text": [
      "Impossivel calcular\n"
     ]
    }
   ],
   "source": [
    "idade = int(input('Digite sua idade'))\n",
    "\n",
    "soma = 0\n",
    "cont = 0\n",
    "\n",
    "if idade < 0:\n",
    "    print('Impossivel calcular')\n",
    "else:\n",
    "    while idade > 0:\n",
    "        soma += idade\n",
    "        cont += 1\n",
    "\n",
    "        idade = int(input('Digite sua idade'))\n",
    "    else:\n",
    "        print(soma/cont)\n",
    "\n"
   ]
  },
  {
   "cell_type": "code",
   "execution_count": 8,
   "metadata": {},
   "outputs": [
    {
     "name": "stdout",
     "output_type": "stream",
     "text": [
      "A soma é 12\n"
     ]
    }
   ],
   "source": [
    "qtd_numeros = int(input('Quantos numeros você quer digitar? '))\n",
    "\n",
    "soma = 0\n",
    "\n",
    "for i in range(qtd_numeros):\n",
    "    i = int(input('Digite um numero: '))\n",
    "    soma += i\n",
    "\n",
    "print(f'A soma é {soma}')"
   ]
  },
  {
   "cell_type": "code",
   "execution_count": 21,
   "metadata": {},
   "outputs": [
    {
     "name": "stdout",
     "output_type": "stream",
     "text": [
      "15\n"
     ]
    }
   ],
   "source": [
    "n1 = int(input('Digite um numero'))\n",
    "n2 = int(input('Digite mais um numero'))\n",
    "troca = 0\n",
    "soma = 0\n",
    "\n",
    "if n2 < n1:\n",
    "    troca = n1\n",
    "    n1 = n2\n",
    "    n2 = troca\n",
    "\n",
    "for i in range(n1, n2):\n",
    "    if i%2 == 1:\n",
    "        soma += i\n",
    "\n",
    "print(soma)"
   ]
  },
  {
   "cell_type": "code",
   "execution_count": null,
   "metadata": {},
   "outputs": [],
   "source": [
    "valores = [5,9,8,3,1,6,2,4,7]\n",
    "\n",
    "aux = 0\n",
    "maior = 0\n",
    "menor = valor[0]\n",
    "troca = 0\n",
    "\n",
    "aux = 0\n",
    "\n",
    "for valor in valores:\n",
    "    aux2 = 0\n",
    "    for indice in valores:\n",
    "        if indice < valor:\n",
    "            troca = valores[aux2]\n",
    "            valores[aux2] = valores[aux] \n",
    "            valores[aux] = troca\n",
    "    aux2 += 1\n",
    "\n",
    "aux += 1\n",
    "\n"
   ]
  },
  {
   "cell_type": "code",
   "execution_count": 30,
   "metadata": {},
   "outputs": [
    {
     "data": {
      "text/plain": [
       "9"
      ]
     },
     "metadata": {},
     "output_type": "display_data"
    },
    {
     "name": "stdout",
     "output_type": "stream",
     "text": [
      "[1, 2, 3, 4, 5, 6, 7, 8, 9]\n"
     ]
    }
   ],
   "source": [
    "teste = [5,9,8,3,6,7,2,4,1]\n",
    "\n",
    "\n",
    "display(len(teste))\n",
    "aux = 0\n",
    "\n",
    "for i in range(0,len(teste)-1):\n",
    "    for j in range(i+1,len(teste)):\n",
    "        if teste[j] < teste[i]:\n",
    "            aux = teste[i]\n",
    "            teste[i] = teste[j]\n",
    "            teste[j] = aux\n",
    "            #display(teste)\n",
    "\n",
    "print(teste)"
   ]
  },
  {
   "cell_type": "code",
   "execution_count": 39,
   "metadata": {},
   "outputs": [
    {
     "name": "stdout",
     "output_type": "stream",
     "text": [
      "A soma dos pares entre 10 e 15 é 24\n"
     ]
    }
   ],
   "source": [
    "x = int(input('Digite um número'))\n",
    "y = int(input('Digite outro número'))\n",
    "t = 0\n",
    "\n",
    "def soma_pares(a,b):\n",
    "    soma = 0\n",
    "    for numero in range(a,b):\n",
    "        if numero%2 != 0:\n",
    "            soma = soma + numero\n",
    "    return soma\n",
    "\n",
    "if x == y:\n",
    "    print('Os numeros são iguais, logo não há numeros pares entre eles')\n",
    "elif y < x:\n",
    "    t = y\n",
    "    y = x\n",
    "    x = t\n",
    "    pares = soma_pares(x,y)\n",
    "    print(f'A soma dos pares entre {x} e {y} é {pares}')\n",
    "else:\n",
    "    pares = soma_pares(x,y)\n",
    "    print(f'A soma dos pares entre {x} e {y} é {pares}')\n"
   ]
  },
  {
   "cell_type": "code",
   "execution_count": 42,
   "metadata": {},
   "outputs": [
    {
     "name": "stdout",
     "output_type": "stream",
     "text": [
      "Acesso permitido\n"
     ]
    }
   ],
   "source": [
    "senha = 2002\n",
    "\n",
    "resp = 0\n",
    "\n",
    "count = 0\n",
    "\n",
    "\n",
    "while resp != senha:\n",
    "    if count == 0:\n",
    "        resp = int(input(('Digite a senha')))\n",
    "    else:\n",
    "        resp = int(input('Senha invalida, digite novamente'))\n",
    "    count += 1\n",
    "\n",
    "print('Acesso permitido')    "
   ]
  },
  {
   "cell_type": "code",
   "execution_count": null,
   "metadata": {},
   "outputs": [
    {
     "name": "stdout",
     "output_type": "stream",
     "text": [
      "Programa encerrado\n"
     ]
    }
   ],
   "source": [
    "# x = ___\n",
    "# y =  |\n",
    "#q1 = +x -y  #q2 = +x +y\n",
    "#q3 = -x -y  #q4 = -x +y\n",
    "\n",
    "\n",
    "def quad(x, y):\n",
    "    if (x > 0) and (y < 0):\n",
    "        q = 'Q1'\n",
    "    elif (x > 0) and (y > 0):\n",
    "        q = 'Q2'\n",
    "    elif (x < 0) and (y < 0):\n",
    "        q = 'Q3'\n",
    "    elif (x < 0) and (y > 0):\n",
    "        q = 'Q4'\n",
    "    else:\n",
    "        q = 'Nulo'\n",
    "    return q\n",
    "\n",
    "\n",
    "x = 1\n",
    "y = 1\n",
    "contar = 0\n",
    "continuar = True\n",
    "\n",
    "while continuar: \n",
    "    if x == 0 or y == 0:\n",
    "        continuar = False\n",
    "    else:\n",
    "        x = float(input('Digite o valor de X'))\n",
    "        y = float(input('Digite o valor de Y'))\n",
    "        quadrante = quad(x,y)\n",
    "        if quadrante != 'Nulo':\n",
    "            print(f'Os valores {x} e {y} pertencem ao {quadrante}')\n",
    "\n"
   ]
  },
  {
   "cell_type": "code",
   "execution_count": 2,
   "metadata": {},
   "outputs": [
    {
     "name": "stdout",
     "output_type": "stream",
     "text": [
      "A sua média nesse semestre foi de 7.5\n"
     ]
    }
   ],
   "source": [
    "# auxiliares\n",
    "notas = []\n",
    "i = 0\n",
    "soma = 0\n",
    "\n",
    "qtd_prov = int(input('Quantas provas houveram esse semestre ?'))\n",
    "\n",
    "while i < qtd_prov:\n",
    "\n",
    "    nota = float(input(f'Digite a nota da {i+1}ª prova'))\n",
    "\n",
    "    if (nota < 0) or (nota > 10):\n",
    "        print('Digite uma nota valida (0-10)')\n",
    "        continue\n",
    "    else:\n",
    "        notas.append(nota)\n",
    "        i += 1\n",
    "\n",
    "for i in notas:\n",
    "    soma += i\n",
    "\n",
    "media = soma/qtd_prov\n",
    "\n",
    "print(f'A sua média nesse semestre foi de {media}')"
   ]
  },
  {
   "cell_type": "code",
   "execution_count": null,
   "metadata": {},
   "outputs": [],
   "source": [
    "c_1 = 'Álcool'\n",
    "c_2 = 'Gasolina'\n",
    "c_3 = 'Diesel'\n",
    "c_4 = 'Fim'\n",
    "\n",
    "s_1 = 0\n",
    "s_2 = 0\n",
    "s_3 = 0\n",
    "a = 0 \n",
    "\n",
    "continuar = True\n",
    "\n",
    "while continuar:\n",
    "    cod = int(input(f'Informe um dos códigos (1,2,3) ou 4 para parar: {a}'))\n",
    "\n",
    "    if (cod < 1) or (cod > 4):\n",
    "        continue\n",
    "    elif cod == 1:\n",
    "        s_1 += 1\n",
    "        a = s_1\n",
    "    elif cod == 2:\n",
    "        s_2 += 1\n",
    "        a = s_2\n",
    "    elif cod == 3:\n",
    "        s_3 += 1\n",
    "        a = s_3\n",
    "    else:\n",
    "        print('Muito obrigado')\n",
    "        continuar = False"
   ]
  },
  {
   "cell_type": "code",
   "execution_count": 12,
   "metadata": {},
   "outputs": [
    {
     "name": "stdout",
     "output_type": "stream",
     "text": [
      "Trabalhamos melhor com numeros positivos, que tal tentar um outro numero ?\n",
      "30\n",
      "40\n",
      "OK, acabamos por aqui!\n"
     ]
    }
   ],
   "source": [
    "continuar = True\n",
    "\n",
    "def par(n):\n",
    "    if n%2 == 0:\n",
    "        return n\n",
    "    else:\n",
    "        return n+1\n",
    "\n",
    "while continuar:\n",
    "    x = int(input('Digite um número qualquer: '))\n",
    "\n",
    "    if x < 0:\n",
    "        print('Trabalhamos melhor com numeros positivos, que tal tentar um outro numero ?')\n",
    "    elif x == 0:\n",
    "        print('OK, acabamos por aqui!')\n",
    "        continuar = False\n",
    "    else:\n",
    "        n_par = par(x)\n",
    "        soma = n_par\n",
    "        for i  in range(0,4):\n",
    "            n_par += 2\n",
    "            soma += n_par \n",
    "        \n",
    "        print(soma)\n",
    "\n"
   ]
  },
  {
   "cell_type": "code",
   "execution_count": 14,
   "metadata": {},
   "outputs": [
    {
     "name": "stdout",
     "output_type": "stream",
     "text": [
      "1\n",
      "3\n",
      "5\n",
      "7\n",
      "9\n"
     ]
    }
   ],
   "source": [
    "def impar(x):\n",
    "    if x%2 != 0:\n",
    "        return True\n",
    "    else:\n",
    "        return False\n",
    "    \n",
    "x = int(input('Digite um número qualquer: '))\n",
    "\n",
    "for i in range(1, x+1):\n",
    "    if impar(i):\n",
    "        print(i)"
   ]
  },
  {
   "cell_type": "code",
   "execution_count": null,
   "metadata": {},
   "outputs": [
    {
     "name": "stdout",
     "output_type": "stream",
     "text": [
      "2 DENTRO\n",
      "3 FORA\n"
     ]
    }
   ],
   "source": [
    "def dent_for(x):\n",
    "    if (x >= 10) and (x <= 20):\n",
    "        return True\n",
    "    else:\n",
    "        return False\n",
    "    \n",
    "dt = 0\n",
    "fr = 0\n",
    "\n",
    "qtd = int(input('Quantos números você irá digitar? '))\n",
    "\n",
    "for i in range(0,qtd):\n",
    "    i = int(input('Digite um número: '))\n",
    "\n",
    "    if dent_for(i):\n",
    "        dt += 1\n",
    "    else:\n",
    "        fr += 1\n",
    "\n",
    "print(f'{dt} DENTRO')\n",
    "print(f'{fr} FORA')"
   ]
  },
  {
   "cell_type": "code",
   "execution_count": null,
   "metadata": {},
   "outputs": [
    {
     "name": "stdout",
     "output_type": "stream",
     "text": [
      "-5 É UM NÚMERO IMPAR NEGATIVO\n",
      "0 É UM NÚMERO Nulo\n",
      "3 É UM NÚMERO IMPAR POSITIVO\n",
      "-4 É UM NÚMERO PAR NEGATIVO\n"
     ]
    }
   ],
   "source": [
    "def tipo(x):\n",
    "    if x == 0:\n",
    "        return 'Nulo'\n",
    "    elif (x > 0) and (x%2 == 0):\n",
    "        return 'PAR POSITIVO'\n",
    "    elif (x < 0) and (x%2 == 0):\n",
    "        return 'PAR NEGATIVO'\n",
    "    elif (x > 0) and (x%2 != 0):\n",
    "        return 'IMPAR POSITIVO'\n",
    "    else:\n",
    "        return 'IMPAR NEGATIVO'\n",
    "\n",
    "qtd = int(input('Quantos número você irá digitar ? '))\n",
    "\n",
    "for i in range(0,qtd):\n",
    "    numero = int(input('Digite um número: '))\n",
    "\n",
    "    print(f'{numero} É UM NÚMERO {tipo(numero)}')"
   ]
  },
  {
   "cell_type": "code",
   "execution_count": 41,
   "metadata": {},
   "outputs": [
    {
     "name": "stdout",
     "output_type": "stream",
     "text": [
      "Média 5.7\n",
      "Média 6.3\n",
      "Média 5.4\n"
     ]
    }
   ],
   "source": [
    "def med_ponderada(a,b,c):\n",
    "    med = (a*2 + b*3 + c*5)/(2+3+5)\n",
    "    return round(med, 1)\n",
    "\n",
    "\n",
    "qtd_numeros = int(input('Quantos casos você vai testar ?'))\n",
    "\n",
    "for i in range(0,qtd_numeros):\n",
    "    num = []\n",
    "    for i2 in range(0,3):\n",
    "        a = float(input('Digite um número: '))\n",
    "        num.append(a)\n",
    "\n",
    "    print(f'Média {med_ponderada(*num)}') "
   ]
  },
  {
   "cell_type": "code",
   "execution_count": null,
   "metadata": {},
   "outputs": [
    {
     "name": "stdout",
     "output_type": "stream",
     "text": [
      "Divisão = -1.5\n",
      "Divisão impossivel\n",
      "Divisão = 0.0\n"
     ]
    }
   ],
   "source": [
    "def div(a,b):\n",
    "    if b == 0:\n",
    "        return 'Divisão impossivel'\n",
    "    else:\n",
    "        return f'Divisão = {a/b}'\n",
    "\n",
    "qtd_numeros = int(input('Quantos casos você quer digitar? '))\n",
    "\n",
    "for i in range(0, qtd_numeros):\n",
    "    num = int(input('Entre com o numerador'))\n",
    "    den = int(input('Entre com o denominador'))\n",
    "\n",
    "    print(div(num,den))   "
   ]
  },
  {
   "cell_type": "code",
   "execution_count": 62,
   "metadata": {},
   "outputs": [
    {
     "name": "stdout",
     "output_type": "stream",
     "text": [
      "1\n"
     ]
    }
   ],
   "source": [
    "def teste(a):\n",
    "    sum = 1\n",
    "    for i in range(1,a+1):\n",
    "        sum *= i\n",
    "    return sum\n",
    "\n",
    "i = int(input('Digite um número: '))\n",
    "\n",
    "print(teste(i))"
   ]
  },
  {
   "cell_type": "code",
   "execution_count": null,
   "metadata": {},
   "outputs": [
    {
     "name": "stdout",
     "output_type": "stream",
     "text": [
      "RATO = 3 cobaias, representando 30.00%\n",
      "SAPO = 3 cobaias, representando 30.00%\n",
      "COBRA = 4 cobaias, representando 40.00%\n"
     ]
    }
   ],
   "source": [
    "def perc(a,b):\n",
    "    return (a * 100)/b\n",
    "\n",
    "r = 0\n",
    "s = 0\n",
    "coluna = 0\n",
    "\n",
    "qtd_cobaias = int(input('Quantas cobaias foram utilizadas no ano ? '))\n",
    "\n",
    "for i in range(0,qtd_cobaias):\n",
    "    tipo = input('Digite o tipo de cobaia(R=Rato, S=Sapo, C=Cobra)')\n",
    "\n",
    "    if tipo.upper() == 'R':\n",
    "        r += 1\n",
    "    elif tipo.upper() == 'S':\n",
    "        s += 1\n",
    "    elif tipo.upper() == 'C':\n",
    "        coluna += 1\n",
    "\n",
    "print(f'RATO = {r} cobaias, representando {perc(r,qtd_cobaias):.2f}%')\n",
    "print(f'SAPO = {s} cobaias, representando {perc(s,qtd_cobaias):.2f}%')\n",
    "print(f'COBRA = {coluna} cobaias, representando {perc(coluna,qtd_cobaias):.2f}%')"
   ]
  },
  {
   "cell_type": "code",
   "execution_count": 2,
   "metadata": {},
   "outputs": [
    {
     "name": "stdout",
     "output_type": "stream",
     "text": [
      "-5\n",
      "-9\n",
      "-7\n",
      "-2\n",
      "-3\n"
     ]
    }
   ],
   "source": [
    "qtd_numeros = int(input('Quantos números você quer digitar ? '))\n",
    "\n",
    "numeros_digitados = []\n",
    "\n",
    "for i in range(0,qtd_numeros):\n",
    "    num = int(input('Digite um número: '))\n",
    "    numeros_digitados.append(num)\n",
    "\n",
    "\n",
    "for i in numeros_digitados:\n",
    "    if i < 0:\n",
    "        print(i)\n",
    "        "
   ]
  },
  {
   "cell_type": "code",
   "execution_count": 23,
   "metadata": {},
   "outputs": [
    {
     "name": "stdout",
     "output_type": "stream",
     "text": [
      "VALORES = {1, 2, 3}\n",
      "SOMA = 6\n",
      "MÉDIA = 2.0\n"
     ]
    }
   ],
   "source": [
    "qtd_numeros = int(input('Quantos numeros você quer digitar ? '))\n",
    "\n",
    "numeros = []\n",
    "soma = 0\n",
    "\n",
    "for i in range(0,qtd_numeros):\n",
    "    num = int(input(f'Digite o {i+1}º número: '))\n",
    "    numeros.append(num)\n",
    "    soma += num\n",
    "\n",
    "\n",
    "print(f'VALORES = {(set(numeros))}')\n",
    "print(f'SOMA = {soma}')\n",
    "print(f'MÉDIA = {soma/qtd_numeros}')\n"
   ]
  },
  {
   "cell_type": "code",
   "execution_count": 28,
   "metadata": {},
   "outputs": [
    {
     "name": "stdout",
     "output_type": "stream",
     "text": [
      "Média da altura: 1.80\n",
      "Percetual de pessoas menores de 16 anos: 50.0%\n",
      "Pessoas menores de 16 anos: ['d']\n"
     ]
    }
   ],
   "source": [
    "qtd_pessoas = int(input('Quantas pessoas você quer registrar ?'))\n",
    "\n",
    "pessoas = []\n",
    "\n",
    "for i in range(0,qtd_pessoas):\n",
    "    pessoa = []\n",
    "    pessoa.append(input(f'Digite o nome da {i+1}ª pessoa: '))\n",
    "    pessoa.append(int(input(f'Digite a idade da {i+1}º pessoa: ')))\n",
    "    pessoa.append(float(input(f'Digite a idade da {i+1}º pessoa: ')))\n",
    "    pessoas.append(pessoa)\n",
    "\n",
    "soma_idade = 0\n",
    "\n",
    "for p in pessoas:\n",
    "    soma_idade += p[2]\n",
    "\n",
    "media = soma_idade/qtd_pessoas\n",
    "\n",
    "maior_16 = 0\n",
    "p_maior_16 = []\n",
    "\n",
    "for m in pessoas:\n",
    "    if m[1] < 16:\n",
    "        maior_16 += 1\n",
    "        p_maior_16.append(m[0])\n",
    "\n",
    "perc = (maior_16/qtd_pessoas)*100\n",
    "\n",
    "print(f'Média da altura: {media:.2f}')\n",
    "print(f'Percetual de pessoas menores de 16 anos: {perc}%')\n",
    "print(f'Pessoas menores de 16 anos: {p_maior_16}')"
   ]
  },
  {
   "cell_type": "code",
   "execution_count": null,
   "metadata": {},
   "outputs": [
    {
     "name": "stdout",
     "output_type": "stream",
     "text": [
      "Números pares: [2, 4]\n",
      "2\n"
     ]
    }
   ],
   "source": [
    "qtd_numeros= int(input('Digite a quantidade de numeros a ser armazenado: '))\n",
    "\n",
    "num_arm = []\n",
    "\n",
    "for i in range(0,qtd_numeros):\n",
    "    num = int(input(f'Digite o {i+1}º numero: '))\n",
    "    num_arm.append(num)\n",
    "\n",
    "num_par = []\n",
    "\n",
    "\n",
    "for numero in num_arm:\n",
    "    if numero%2 == 0:\n",
    "        num_par.append(numero)\n",
    "\n",
    "print(f'Números pares: {num_par}')\n",
    "print(len(num_par))"
   ]
  },
  {
   "cell_type": "code",
   "execution_count": 35,
   "metadata": {},
   "outputs": [
    {
     "name": "stdout",
     "output_type": "stream",
     "text": [
      "O maior número digitado foi 23 na posição 4\n"
     ]
    }
   ],
   "source": [
    "qtd_numeros = int(input('Quantos números você quer validar ?'))\n",
    "\n",
    "numeros = []\n",
    "\n",
    "for i in range(0,qtd_numeros):\n",
    "    num = int(input(f'Digite o {i+1} número: '))\n",
    "    numeros.append(num)\n",
    "\n",
    "maior = 0\n",
    "pos = 0\n",
    "\n",
    "for i, numero in enumerate(numeros):\n",
    "    if numero > maior:\n",
    "        maior = numero\n",
    "        pos = i\n",
    "\n",
    "print(f'O maior número digitado foi {maior} na posição {pos}')\n",
    "    \n"
   ]
  },
  {
   "cell_type": "code",
   "execution_count": null,
   "metadata": {},
   "outputs": [
    {
     "name": "stdout",
     "output_type": "stream",
     "text": [
      "10 + 25 = 35\n",
      "15 + 30 = 45\n",
      "20 + 35 = 55\n"
     ]
    }
   ],
   "source": [
    "qtd_numeros = int(input('Quantos elementos terá ada vetor ?'))\n",
    "\n",
    "vetor_a = []\n",
    "vetor_b = []\n",
    "vetor_c = []\n",
    "\n",
    "for ind1 in range(0,2):\n",
    "    for ind2 in range(0,qtd_numeros):\n",
    "        \n",
    "        num = int(input(f'Digite o {ind2+1}º número do {ind1+1}º vetor: '))\n",
    "        \n",
    "        if ind1 == 0:\n",
    "            vetor_a.append(num)\n",
    "        else:\n",
    "            vetor_b.append(num)\n",
    "\n",
    "for i, numero in enumerate(vetor_a):\n",
    "    soma = vetor_a[i] + vetor_b[i]\n",
    "    vetor_c.append(soma)\n",
    "\n",
    "\n",
    "for ind, num in enumerate(vetor_a):\n",
    "    print(f'{vetor_a[ind]} + {vetor_b[ind]} = {vetor_c[ind]}')"
   ]
  },
  {
   "cell_type": "code",
   "execution_count": null,
   "metadata": {},
   "outputs": [
    {
     "name": "stdout",
     "output_type": "stream",
     "text": [
      "Média: 20.000\n",
      "10.0 está fora da média\n",
      "15.0 está fora da média\n",
      "20.0 está dentro da média\n",
      "25.0 está dentro da média\n",
      "30.0 está dentro da média\n"
     ]
    }
   ],
   "source": [
    "qtd_numeros = int(input('Quantos numeros serão digitados ?'))\n",
    "\n",
    "numeros = []\n",
    "\n",
    "for i in range(0,qtd_numeros):\n",
    "    num = float(input(f'Digite o {i+1}º numero: '))\n",
    "    numeros.append(num)\n",
    "\n",
    "soma = 0\n",
    "\n",
    "for numero in numeros:\n",
    "    soma += numero\n",
    "\n",
    "media  = soma/qtd_numeros\n",
    "\n",
    "print(f'Média: {media:.3f}')\n",
    "\n",
    "for numero in numeros:\n",
    "    if numero >= media:\n",
    "        print(f'{numero} está dentro da média')\n",
    "    else:\n",
    "        print(f'{numero} está fora da média')"
   ]
  },
  {
   "cell_type": "code",
   "execution_count": null,
   "metadata": {},
   "outputs": [
    {
     "name": "stdout",
     "output_type": "stream",
     "text": [
      "A média dos números pares é de: 2.0\n"
     ]
    }
   ],
   "source": [
    "qtd_numeros = int(input('Quantos números serão validados? '))\n",
    "\n",
    "numeros = []\n",
    "\n",
    "for i in range(0,qtd_numeros):\n",
    "    num = int(input(f'Digite o {i+1}º número: '))\n",
    "    numeros.append(num)\n",
    "\n",
    "pares = []\n",
    "\n",
    "for numero in numeros:\n",
    "    if numero%2 == 0:\n",
    "        pares.append(numero)\n",
    "\n",
    "qtd_pares = len(pares)\n",
    "soma_pares = 0\n",
    "\n",
    "if qtd_pares != 0:\n",
    "    for p in pares:\n",
    "        soma_pares += p\n",
    "    \n",
    "    media_pares = soma_pares/qtd_pares\n",
    "\n",
    "    print(f'A média dos números pares é de: {media_pares}')\n",
    "else:\n",
    "    print('Nenhum número par')    "
   ]
  },
  {
   "cell_type": "code",
   "execution_count": 53,
   "metadata": {},
   "outputs": [
    {
     "name": "stdout",
     "output_type": "stream",
     "text": [
      "A pessoa mais velha é hh com 28 anos\n"
     ]
    }
   ],
   "source": [
    "qtd_pessoas = int(input('Quantas pessoas serão digitadas? '))\n",
    "\n",
    "nomes = []\n",
    "idades = []\n",
    "\n",
    "for i in range(0,qtd_pessoas):\n",
    "    nome = input(f'Digite o nome da {i+1}ª pessoa')\n",
    "    nomes.append(nome)\n",
    "    idade = int(input(f'Digite a idade da {i+1}º pessoa'))\n",
    "    idades.append(idade)\n",
    "\n",
    "maior = 0\n",
    "indice = 0\n",
    "\n",
    "for ind, idade in enumerate(idades):\n",
    "    if idade > maior:\n",
    "        maior = idade\n",
    "        indice = ind\n",
    "\n",
    "print(f'A pessoa mais velha é {nomes[ind]} com {idades[ind]} anos')"
   ]
  },
  {
   "cell_type": "code",
   "execution_count": 58,
   "metadata": {},
   "outputs": [
    {
     "name": "stdout",
     "output_type": "stream",
     "text": [
      "Deivi foi aprovado com média 7.25\n",
      "Maria foi aprovado com média 6.666666666666667\n"
     ]
    }
   ],
   "source": [
    "qtd_pessoas = int(input('Quantos alunos serão validados ?'))\n",
    "\n",
    "nomes = []\n",
    "notas = []\n",
    "medias = []\n",
    "\n",
    "for i in range(0,qtd_pessoas):\n",
    "    nome = input('Digite o nome do aluno: ')\n",
    "    \n",
    "    qtd_notas = int(input(f'Quantas provas {nome} fez ?'))\n",
    "    \n",
    "    notas_aluno = []\n",
    "    \n",
    "    for numero in range(0,qtd_notas):\n",
    "        nota = int(input(f'Digite a {numero+1}ª nota de {nome}: '))\n",
    "        notas_aluno.append(nota)\n",
    "    \n",
    "    nomes.append(nome)\n",
    "    notas.append(notas_aluno)\n",
    "\n",
    "for lis_notas in notas:\n",
    "    qtd_provas = len(lis_notas)\n",
    "    soma = 0\n",
    "    for nota_ind in lis_notas:\n",
    "        soma += nota_ind\n",
    "\n",
    "    media = soma/qtd_provas\n",
    "    medias.append(media)\n",
    "\n",
    "for ind, med in enumerate(medias):\n",
    "    if med >= 6:\n",
    "        print(f'{nomes[ind]} foi aprovado com média {med}')\n",
    "\n"
   ]
  },
  {
   "cell_type": "code",
   "execution_count": null,
   "metadata": {},
   "outputs": [
    {
     "name": "stdout",
     "output_type": "stream",
     "text": [
      "A média da altura das mulheres é de 2.3766666666666665, e no total há 2 homens\n"
     ]
    }
   ],
   "source": [
    "qtd_pessoas = int(input('Quantas pessoas serão cadastradas ?'))\n",
    "\n",
    "pessoas = []\n",
    "\n",
    "for i in range(0,qtd_pessoas):\n",
    "    pessoa = []\n",
    "    genero = 'não_definido'\n",
    "    \n",
    "    while (genero != 'F') and (genero != 'M') :\n",
    "        genero = input(f'Qual o genero(F/M) da {i+1}ª pessoa? ').upper()\n",
    "    pessoa.append(genero)\n",
    "\n",
    "    altura = float(input(f'Qual a altura da {i+1}ª pessoa? '))\n",
    "    pessoa.append(altura)\n",
    "\n",
    "    pessoas.append(pessoa)\n",
    "\n",
    "maior = pessoas[0][1]\n",
    "menor = pessoas[0][1]\n",
    "ind_maior = 0\n",
    "ind_menor = 0\n",
    "\n",
    "for ind, p in enumerate(pessoas):\n",
    "    if p[1] > maior:\n",
    "        maior = p[1]\n",
    "        ind_maior = ind\n",
    "    elif p[1] < menor:\n",
    "        menor = p[1]\n",
    "        ind_menor = ind\n",
    "\n",
    "qtd_h = 0\n",
    "qtd_m = 0\n",
    "soma_alt_h = 0\n",
    "soma_alt_m = 0\n",
    "\n",
    "\n",
    "for p in pessoas:\n",
    "    if p[0] == 'M':\n",
    "        qtd_h += 1\n",
    "        soma_alt_h += p[1]\n",
    "    else:\n",
    "        qtd_m += 1\n",
    "        soma_alt_m += p[1]\n",
    "\n",
    "media_h = soma_alt_h/qtd_h\n",
    "media_m = soma_alt_m/qtd_m\n",
    "\n",
    "print(f'A média da altura das mulheres é de {media_m}, e no total há {qtd_h} homens')\n",
    "\n",
    "print(f'maior: {ind_maior+1}ª pessoa com {maior} de altura')\n",
    "print(f'menor: {ind_menor+1}ª pessoa com {menor} de altura')\n",
    "\n"
   ]
  },
  {
   "cell_type": "code",
   "execution_count": 64,
   "metadata": {},
   "outputs": [
    {
     "name": "stdout",
     "output_type": "stream",
     "text": [
      "Produto: Feijão | Preço_compra: 10.0 | Preço_venda: 11.0 | Lucro: 1.0 | Margem: 10.0\n",
      "Produto: Arroz | Preço_compra: 12.0 | Preço_venda: 12.8 | Lucro: 0.8000000000000007 | Margem: 6.666666666666672\n",
      "Produto: Oleo | Preço_compra: 5.0 | Preço_venda: 5.7 | Lucro: 0.7000000000000002 | Margem: 14.000000000000004\n",
      "Produto: Sal | Preço_compra: 3.0 | Preço_venda: 4.0 | Lucro: 1.0 | Margem: 33.333333333333336\n"
     ]
    }
   ],
   "source": [
    "qtd_produtos = int(input('Quantos produtos serão digitados? '))\n",
    "\n",
    "produtos = []\n",
    "lucros = []\n",
    "margems = []\n",
    "\n",
    "for i in range(0,qtd_produtos):\n",
    "    produto = []\n",
    "\n",
    "    nome = input(f'Qual o {i+1}º produto? ')\n",
    "    produto.append(nome)\n",
    "\n",
    "    pre_comp = float(input('Qual o preço de compra? '))\n",
    "    produto.append(pre_comp)\n",
    "    \n",
    "    pre_vend = float(input('Qual o preço de venda? '))\n",
    "    produto.append(pre_vend)\n",
    "\n",
    "    produtos.append(produto)\n",
    "\n",
    "for prod in produtos:\n",
    "    lucro = prod[2] - prod[1]\n",
    "    lucros.append(lucro)\n",
    "\n",
    "for ind, luc in enumerate(lucros):\n",
    "    margem = (luc * 100)/ produtos[ind][1]\n",
    "    margems.append(margem)\n",
    "\n",
    "for a, b in enumerate(produtos):\n",
    "    print(f'Produto: {b[0]} | Preço_compra: {b[1]} | Preço_venda: {b[2]} | Lucro: {lucros[a]} | Margem: {margems[a]}')\n"
   ]
  },
  {
   "cell_type": "code",
   "execution_count": 65,
   "metadata": {},
   "outputs": [
    {
     "name": "stdout",
     "output_type": "stream",
     "text": [
      "5\n",
      "8\n",
      "-4\n"
     ]
    }
   ],
   "source": [
    "qtd_elementos = int(input('Qual a ordem da matriz ?'))\n",
    "\n",
    "elementos = []\n",
    "\n",
    "for i in range(0,qtd_elementos):\n",
    "    elemento = []\n",
    "    for j in range(0,qtd_elementos):\n",
    "        numero = int(input('Digite um número'))\n",
    "        elemento.append(numero)\n",
    "    elementos.append(elemento)\n",
    "\n",
    "for d in range(0,qtd_elementos):\n",
    "    print(elementos[d][d])\n",
    "\n",
    "qtd_negativos = 0\n",
    "\n",
    "for e in elementos:\n",
    "    for numero in e:\n",
    "        if numero < 0:\n",
    "            qtd_negativos += 1\n",
    "\n",
    "print(qtd_negativos)           "
   ]
  },
  {
   "cell_type": "code",
   "execution_count": 67,
   "metadata": {},
   "outputs": [
    {
     "name": "stdout",
     "output_type": "stream",
     "text": [
      "[6, 15, 24]\n"
     ]
    }
   ],
   "source": [
    "qtd_col = int(input('Quantas colunas serão digitadas? '))\n",
    "qtd_lin = int(input('Quantas linhas serão digitadas? '))\n",
    "\n",
    "linhas = []\n",
    "\n",
    "for linha in range(0,qtd_lin):\n",
    "    colunas = []\n",
    "    for coluna in range(0,qtd_col):\n",
    "        numero = int(input(f'Digite o {coluna+1}º elemento da {linha+1}ª linha: '))\n",
    "        colunas.append(numero)\n",
    "    linhas.append(colunas)\n",
    "\n",
    "vetor = [] \n",
    "\n",
    "for l in linhas:\n",
    "    soma = 0\n",
    "    for c in l:\n",
    "        soma += c\n",
    "    vetor.append(soma)\n",
    "\n",
    "\n",
    "print(vetor)"
   ]
  },
  {
   "cell_type": "code",
   "execution_count": 68,
   "metadata": {},
   "outputs": [
    {
     "name": "stdout",
     "output_type": "stream",
     "text": [
      "[-8, -13, -6]\n"
     ]
    }
   ],
   "source": [
    "n_lin = int(input('Número de linhas: '))\n",
    "n_col = int(input('Número de colunas: '))\n",
    "\n",
    "linhas = []\n",
    "\n",
    "for lin in range(0,n_lin):\n",
    "    colunas = []\n",
    "    for col in range(0,n_col):\n",
    "        numero = int(input('Digite um número: '))\n",
    "        colunas.append(numero)\n",
    "    linhas.append(colunas)\n",
    "\n",
    "negativos = []\n",
    "\n",
    "for linha in linhas:\n",
    "    for coluna in linha:\n",
    "        if coluna < 0:\n",
    "            negativos.append(coluna)\n",
    "\n",
    "print(negativos)"
   ]
  },
  {
   "cell_type": "code",
   "execution_count": 69,
   "metadata": {},
   "outputs": [
    {
     "name": "stdout",
     "output_type": "stream",
     "text": [
      "[10, 15, 9, 13]\n"
     ]
    }
   ],
   "source": [
    "ordem_matriz = int(input('Qual será a ordem da matriz ?'))\n",
    "\n",
    "linhas = []\n",
    "\n",
    "for lin in range(0,ordem_matriz):\n",
    "    colunas = []\n",
    "    for col in range(0, ordem_matriz):\n",
    "        num = int(input('Digite um número: '))\n",
    "        colunas.append(num)\n",
    "    linhas.append(colunas)\n",
    "\n",
    "maiores = []\n",
    "\n",
    "for linha in linhas:\n",
    "    maior = linha[0]\n",
    "    for coluna in linha:\n",
    "        if coluna > maior:\n",
    "            maior = coluna\n",
    "    maiores.append(maior)\n",
    "\n",
    "print(maiores)\n",
    "\n",
    "\n"
   ]
  },
  {
   "cell_type": "code",
   "execution_count": 77,
   "metadata": {},
   "outputs": [],
   "source": [
    "qtd_lin = int(input('Qtd de linhas: '))\n",
    "qtd_col = int(input('Qtd de colunas: '))\n",
    "\n",
    "vetores = []\n",
    "\n",
    "for v in range(0,2):\n",
    "    linhas = []\n",
    "    for lin in range(0,qtd_lin):\n",
    "        colunas = []\n",
    "        for col in range(0,qtd_col):\n",
    "            numero = int(input('Digite um número: '))\n",
    "            colunas.append(numero)\n",
    "        linhas.append(colunas)\n",
    "    vetores.append(linhas)\n",
    "\n",
    "\n",
    "novo_vetor = []\n",
    "\n",
    "for ind1, linha in enumerate(vetores[0]):\n",
    "    nova_linha = []\n",
    "    for ind2, coluna in enumerate(linha):\n",
    "        soma = coluna + vetores[1][ind1][ind2]\n",
    "        nova_linha.append(soma)\n",
    "    novo_vetor.append(nova_linha)\n",
    "\n",
    "print(novo_vetor)\n"
   ]
  },
  {
   "cell_type": "code",
   "execution_count": 84,
   "metadata": {},
   "outputs": [
    {
     "name": "stdout",
     "output_type": "stream",
     "text": [
      "[[], [2], [3, 4], [1, 5, 3]]\n",
      "[0, 2, 7, 9]\n"
     ]
    }
   ],
   "source": [
    "ordem_matriz = int(input('Qual será a ordem da matriz? '))\n",
    "\n",
    "linhas = []\n",
    "\n",
    "for linha in range(0,ordem_matriz):\n",
    "    colunas  = []\n",
    "    for coluna in range(0, ordem_matriz):\n",
    "        numero = int(input('Digite um número'))\n",
    "        colunas.append(numero)\n",
    "    linhas.append(colunas)\n",
    "\n",
    "acima_diagonal = []\n",
    "somas = []\n",
    "\n",
    "for ind_lin, lin in enumerate(linhas): # 3 [9,12,9,5] \n",
    "    for ind_col, col in enumerate(lin): # 3 [5]\n",
    "        if ind_lin == ind_col: #[3,5,1]\n",
    "            soma = 0\n",
    "            diagonal = []\n",
    "            for i in range(0,ind_lin):\n",
    "                soma += linhas[i][ind_col]\n",
    "                diagonal.append(linhas[i][ind_col])\n",
    "            acima_diagonal.append(diagonal)\n",
    "            somas.append(soma)\n",
    "\n",
    "print(acima_diagonal)\n",
    "print(somas)\n"
   ]
  },
  {
   "cell_type": "code",
   "execution_count": 91,
   "metadata": {},
   "outputs": [
    {
     "name": "stdout",
     "output_type": "stream",
     "text": [
      "-2\n",
      "3\n",
      "5\n",
      "---\n",
      "10\n",
      "5\n",
      "4\n",
      "---\n",
      "7\n",
      "3\n",
      "4\n",
      "---\n",
      "[[7, -8, 10], [-2, 3, 5], [11, -15, 4]]\n",
      "---\n",
      "[[7, 64, 10], [4, 3, 5], [11, 225, 4]]\n"
     ]
    }
   ],
   "source": [
    "ordem_matriz = int(input('Qual será a ordem da matriz ?'))\n",
    "\n",
    "linhas = []\n",
    "\n",
    "for linha in range(0,ordem_matriz):\n",
    "    colunas = []\n",
    "    for coluna in range(0,ordem_matriz):\n",
    "        numero = int(input('Digite um número: '))\n",
    "        colunas.append(numero)\n",
    "    linhas.append(colunas)\n",
    "\n",
    "soma = 0\n",
    "\n",
    "for lin in linhas:\n",
    "    for col in lin:\n",
    "        if col > 0:\n",
    "            soma += col\n",
    "\n",
    "get_linha = int(input('Digite uma linha a ser exibida:' ))\n",
    "\n",
    "for l in linhas[get_linha]:\n",
    "    print(l)\n",
    "\n",
    "print('---')\n",
    "\n",
    "get_coluna = int(input('Digite uma coluna a ser exibida: '))\n",
    "\n",
    "for l in linhas:\n",
    "    print(l[get_coluna])\n",
    "\n",
    "print('---')\n",
    "\n",
    "for ind_l, l in enumerate(linhas):\n",
    "    for ind_c, c in enumerate(l):\n",
    "        if ind_l == ind_c:\n",
    "            print(c)\n",
    "\n",
    "print('---')\n",
    "\n",
    "nova_matriz = []\n",
    "\n",
    "\n",
    "for l in linhas:\n",
    "    nova_coluna = []\n",
    "    for c in l:\n",
    "        if c < 0:\n",
    "            c *= c\n",
    "        nova_coluna.append(c)\n",
    "    nova_matriz.append(nova_coluna)\n",
    "\n",
    "print(linhas)\n",
    "print('---')\n",
    "print(nova_matriz)"
   ]
  }
 ],
 "metadata": {
  "kernelspec": {
   "display_name": "Python 3",
   "language": "python",
   "name": "python3"
  },
  "language_info": {
   "codemirror_mode": {
    "name": "ipython",
    "version": 3
   },
   "file_extension": ".py",
   "mimetype": "text/x-python",
   "name": "python",
   "nbconvert_exporter": "python",
   "pygments_lexer": "ipython3",
   "version": "3.13.0"
  }
 },
 "nbformat": 4,
 "nbformat_minor": 2
}
